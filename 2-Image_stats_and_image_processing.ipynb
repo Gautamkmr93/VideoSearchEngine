{
 "cells": [
  {
   "cell_type": "markdown",
   "metadata": {
    "colab_type": "text",
    "id": "2TcCJuat3fWI"
   },
   "source": [
    "# Image stats and image processing\n",
    "This notebook follows on from the fundamentals notebook.\n",
    "\n",
    "This will introduce some simple stats, smoothing, and basic image processing.\n",
    "\n",
    "But first let us include what we need to include and load up our test image.\n",
    "\n",
    "<p>\n",
    " Estimated time needed: <strong>20 min</strong>\n",
    "</p>"
   ]
  },
  {
   "cell_type": "code",
   "execution_count": 0,
   "metadata": {
    "colab": {},
    "colab_type": "code",
    "id": "sWiMMUll3fWL"
   },
   "outputs": [],
   "source": [
    "# Download the test image and utils files\n",
    "!wget --no-check-certificate \\\n",
    "    https://raw.githubusercontent.com/computationalcore/introduction-to-opencv/master/assets/noidea.jpg \\\n",
    "    -O noidea.jpg\n",
    "!wget --no-check-certificate \\\n",
    "    https://raw.githubusercontent.com/computationalcore/introduction-to-opencv/master/utils/common.py \\\n",
    "    -O common.py\n",
    "# these imports let you use opencv\n",
    "import cv2 #opencv itself\n",
    "import common #some useful opencv functions\n",
    "import numpy as np # matrix manipulations\n",
    "\n",
    "#the following are to do with this interactive notebook code\n",
    "%matplotlib inline \n",
    "from matplotlib import pyplot as plt # this lets you draw inline pictures in the notebooks\n",
    "import pylab # this allows you to control figure size \n",
    "pylab.rcParams['figure.figsize'] = (10.0, 8.0) # this controls figure size in the notebook\n",
    "\n",
    "input_image=cv2.imread('noidea.jpg')"
   ]
  },
  {
   "cell_type": "markdown",
   "metadata": {
    "colab_type": "text",
    "id": "b8PY3kZ63fWO"
   },
   "source": [
    "## Basic manipulations\n",
    "\n",
    "Rotate, flip... "
   ]
  },
  {
   "cell_type": "code",
   "execution_count": 0,
   "metadata": {
    "colab": {},
    "colab_type": "code",
    "id": "4LHzdNvt3fWP"
   },
   "outputs": [],
   "source": [
    "flipped_code_0=cv2.flip(input_image,0) # vertical flip\n",
    "plt.imshow(flipped_code_0)"
   ]
  },
  {
   "cell_type": "code",
   "execution_count": 0,
   "metadata": {
    "colab": {},
    "colab_type": "code",
    "id": "9SOq_oD-3fWR"
   },
   "outputs": [],
   "source": [
    "flipped_code_1=cv2.flip(input_image,1) # horizontal flip\n",
    "plt.imshow(flipped_code_1)"
   ]
  },
  {
   "cell_type": "code",
   "execution_count": 0,
   "metadata": {
    "colab": {},
    "colab_type": "code",
    "id": "7zapvC1p3fWU"
   },
   "outputs": [],
   "source": [
    "transposed=cv2.transpose(input_image)\n",
    "plt.imshow(transposed)"
   ]
  },
  {
   "cell_type": "markdown",
   "metadata": {
    "colab_type": "text",
    "id": "n8yTtUGq3fWX"
   },
   "source": [
    "## Minimum, maximum\n",
    "\n",
    "To find the min or max of a matrix, you can use minMaxLoc. This takes a single channel image (it doesn't make much sense to take the max of a 3 channel image). So in the next code snippet you see a for loop, using python style image slicing, to look at each channel of the input image separately. "
   ]
  },
  {
   "cell_type": "code",
   "execution_count": 0,
   "metadata": {
    "colab": {},
    "colab_type": "code",
    "id": "S7nLP0QL3fWY"
   },
   "outputs": [],
   "source": [
    "for i in range(0,3):\n",
    "   min_value, max_value, min_location, max_location=cv2.minMaxLoc(input_image[:,:,i])\n",
    "   print(\"min {} is at {}, and max {} is at {}\".format(min_value, min_location, max_value, max_location))\n"
   ]
  },
  {
   "cell_type": "markdown",
   "metadata": {
    "colab_type": "text",
    "id": "qF_AsupK3fWa"
   },
   "source": [
    "## Arithmetic operations on images\n",
    "\n",
    "OpenCV has a lot of functions for doing mathematics on images. Some of these have \"analogous\" numpy alternatives, but it is nearly always better to use the OpenCV version. The reason for this that OpenCV is designed to work on images and so handles overflow better (OpenCV add, for example, truncates to 255 if the datatype is image-like and 8 bit; Numpy's alternative wraps around).\n",
    "\n",
    "Useful arithmetic operations include add and addWeighted, which combine two images that are the same size. "
   ]
  },
  {
   "cell_type": "code",
   "execution_count": 0,
   "metadata": {
    "colab": {},
    "colab_type": "code",
    "id": "Gg5M59Lt3fWa"
   },
   "outputs": [],
   "source": [
    "#First create an image the same size as our input\n",
    "blank_image = np.zeros((input_image.shape), np.uint8)\n",
    "\n",
    "blank_image[100:200,100:200,1]=100; #give it a green square\n",
    "\n",
    "new_image=cv2.add(blank_image,input_image) # add the two images together\n",
    "\n",
    "plt.imshow(cv2.cvtColor(new_image, cv2.COLOR_BGR2RGB))"
   ]
  },
  {
   "cell_type": "markdown",
   "metadata": {
    "colab_type": "text",
    "id": "ke-afLFp3fWd"
   },
   "source": [
    "## Noise reduction\n",
    "Noise reduction usually involves blurring/smoothing an image using a Gaussian kernel.\n",
    "The width of the kernel determines the amount of smoothing."
   ]
  },
  {
   "cell_type": "code",
   "execution_count": 0,
   "metadata": {
    "colab": {},
    "colab_type": "code",
    "id": "EyxmwP0E3fWd"
   },
   "outputs": [],
   "source": [
    "d=3\n",
    "img_blur3 = cv2.GaussianBlur(input_image, (2*d+1, 2*d+1), -1)[d:-d,d:-d]\n",
    "\n",
    "plt.imshow(cv2.cvtColor(img_blur3, cv2.COLOR_BGR2RGB))"
   ]
  },
  {
   "cell_type": "code",
   "execution_count": 0,
   "metadata": {
    "colab": {},
    "colab_type": "code",
    "id": "GjGY7Dl33fWg"
   },
   "outputs": [],
   "source": [
    "d=5\n",
    "img_blur5 = cv2.GaussianBlur(input_image, (2*d+1, 2*d+1), -1)[d:-d,d:-d]\n",
    "\n",
    "plt.imshow(cv2.cvtColor(img_blur5, cv2.COLOR_BGR2RGB))"
   ]
  },
  {
   "cell_type": "code",
   "execution_count": 0,
   "metadata": {
    "colab": {},
    "colab_type": "code",
    "id": "AaJ7zd1w3fWi"
   },
   "outputs": [],
   "source": [
    "d=15\n",
    "img_blur15 = cv2.GaussianBlur(input_image, (2*d+1, 2*d+1), -1)[d:-d,d:-d]\n",
    "\n",
    "plt.imshow(cv2.cvtColor(img_blur15, cv2.COLOR_BGR2RGB))"
   ]
  },
  {
   "cell_type": "markdown",
   "metadata": {
    "colab_type": "text",
    "id": "Hp50ZT_A3fWk"
   },
   "source": [
    "## Edges\n",
    "\n",
    "Edge detection is the final image processing technique we're going to look at in this tutorial.\n",
    "\n",
    "For a lot of what we think of as \"modern\" computer vision techniques, edge detection functions as a building block. Much edge detection actually works by **convolution**, and indeed **convolutional neural networks** are absolutely the flavour of the month in some parts of computer vision. Sobel's edge detector was one of the first truly successful edge detection (enhancement) technique and that involves convolution at its core. You can read more about the background to Sobel here in the OpenCV docs [here](https://docs.opencv.org/3.0-beta/doc/py_tutorials/py_imgproc/py_gradients/py_gradients.html). "
   ]
  },
  {
   "cell_type": "code",
   "execution_count": 0,
   "metadata": {
    "colab": {},
    "colab_type": "code",
    "id": "d7ceQSv13fWk"
   },
   "outputs": [],
   "source": [
    "sobelimage=cv2.cvtColor(input_image,cv2.COLOR_BGR2GRAY)\n",
    "\n",
    "sobelx = cv2.Sobel(sobelimage,cv2.CV_64F,1,0,ksize=9)\n",
    "sobely = cv2.Sobel(sobelimage,cv2.CV_64F,0,1,ksize=9)\n",
    "plt.imshow(sobelx,cmap = 'gray') \n",
    "# Sobel works in x and in y, change sobelx to sobely in the olt line above to see the difference\n"
   ]
  },
  {
   "cell_type": "markdown",
   "metadata": {
    "colab_type": "text",
    "id": "RWxFMGQe3fWm"
   },
   "source": [
    "Canny edge detection is another winnning technique - it takes two thresholds.\n",
    "The first one determines how likely Canny is to find an edge, and the second determines how likely it is to follow that edge once it's found. Investigate the effect of these thresholds by altering the values below."
   ]
  },
  {
   "cell_type": "code",
   "execution_count": 0,
   "metadata": {
    "colab": {},
    "colab_type": "code",
    "id": "1MJQRgXL3fWn"
   },
   "outputs": [],
   "source": [
    "th1=30\n",
    "th2=60 # Canny recommends threshold 2 is 3 times threshold 1 - you could try experimenting with this...\n",
    "d=3 # gaussian blur\n",
    "\n",
    "edgeresult=input_image.copy()\n",
    "edgeresult = cv2.GaussianBlur(edgeresult, (2*d+1, 2*d+1), -1)[d:-d,d:-d]\n",
    "\n",
    "gray = cv2.cvtColor(edgeresult, cv2.COLOR_BGR2GRAY)\n",
    "\n",
    "edge = cv2.Canny(gray, th1, th2)\n",
    "\n",
    "edgeresult[edge != 0] = (0, 255, 0) # this takes pixels in edgeresult where edge non-zero colours them bright green\n",
    "\n",
    "plt.imshow(cv2.cvtColor(edgeresult, cv2.COLOR_BGR2RGB))"
   ]
  },
  {
   "cell_type": "markdown",
   "metadata": {
    "colab_type": "text",
    "collapsed": true,
    "id": "AV4RbCru3fWs"
   },
   "source": [
    "[Previous](1-Fundamentals.ipynb) [Next](3-Features.ipynb)"
   ]
  }
 ],
 "metadata": {
  "colab": {
   "collapsed_sections": [],
   "name": "2-Image-stats-and-image-processing.ipynb",
   "provenance": []
  },
  "kernelspec": {
   "display_name": "Python 3 (ipykernel)",
   "language": "python",
   "name": "python3"
  },
  "language_info": {
   "codemirror_mode": {
    "name": "ipython",
    "version": 3
   },
   "file_extension": ".py",
   "mimetype": "text/x-python",
   "name": "python",
   "nbconvert_exporter": "python",
   "pygments_lexer": "ipython3",
   "version": "3.9.7"
  }
 },
 "nbformat": 4,
 "nbformat_minor": 1
}
